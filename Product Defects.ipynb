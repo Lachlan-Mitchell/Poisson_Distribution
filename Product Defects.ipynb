{
 "cells": [
  {
   "cell_type": "markdown",
   "id": "4b2cd154",
   "metadata": {},
   "source": [
    "# Product Defects"
   ]
  },
  {
   "cell_type": "markdown",
   "id": "9fb46377",
   "metadata": {},
   "source": [
    "You are in charge of monitoring the number of products from a specific factory. You've been told that the number of defects on a given day follows the Poisson distribution with the rate parameter (lambda) equal to 7. You're new here, so you want to get a feel for what it means to follow the Poisson(7) distribution. You remember that the Poisson distribution is special because the rate parameter represents the expected value of the distribution, so in this case, the expected value of the Poisson(7) distribution is 7 defects per day.\n",
    "\n",
    "You will investigate certain attributes of the Poisson(7) distribution to get an intuition for how many defective objects you should expect to see in a given amount of time. You will also practice and apply what you know about the Poisson distribution on a practice data set that you will simulate yourself."
   ]
  },
  {
   "cell_type": "markdown",
   "id": "24b7687a",
   "metadata": {},
   "source": [
    "## Distribution in Theory"
   ]
  },
  {
   "cell_type": "markdown",
   "id": "6507ea83",
   "metadata": {},
   "source": [
    "1. Create a variable called `lam` that represents the rate parameter of our distribution."
   ]
  },
  {
   "cell_type": "code",
   "execution_count": 1,
   "id": "5004fed3",
   "metadata": {},
   "outputs": [],
   "source": [
    "import scipy.stats as stats\n",
    "import numpy as np\n",
    "\n",
    "## Task 1:\n",
    "lam = 7"
   ]
  },
  {
   "cell_type": "markdown",
   "id": "74c409d6",
   "metadata": {},
   "source": [
    "2. You know that the rate parameter of a Poisson distribution is equal to the expected value. So in our factory, the rate parameter would equal the expected number of defects on a given day. You are curious about how often we might observe the exact expected number of defects.\n",
    "\n",
    "   Calculate and print the probability of observing exactly `lam` defects on a given day."
   ]
  },
  {
   "cell_type": "code",
   "execution_count": 14,
   "id": "9460b5b8",
   "metadata": {},
   "outputs": [
    {
     "data": {
      "text/plain": [
       "0.14900277967433773"
      ]
     },
     "execution_count": 14,
     "metadata": {},
     "output_type": "execute_result"
    }
   ],
   "source": [
    "## Task 2:\n",
    "prob_lam = stats.poisson.pmf(7, lam)\n",
    "prob_lam"
   ]
  },
  {
   "cell_type": "markdown",
   "id": "2f2e2d1f",
   "metadata": {},
   "source": [
    "3. Our boss said that having 4 or fewer defects on a given day is an exceptionally good day. You are curious about how often that might happen.\n",
    "\n",
    "   Calculate and print the probability of having one of those days."
   ]
  },
  {
   "cell_type": "code",
   "execution_count": 15,
   "id": "f4ebb772",
   "metadata": {},
   "outputs": [
    {
     "data": {
      "text/plain": [
       "0.17299160788207146"
      ]
     },
     "execution_count": 15,
     "metadata": {},
     "output_type": "execute_result"
    }
   ],
   "source": [
    "## Task 3:\n",
    "prob_four_or_less = stats.poisson.cdf(4,lam)\n",
    "prob_four_or_less"
   ]
  },
  {
   "cell_type": "markdown",
   "id": "53d28c8f",
   "metadata": {},
   "source": [
    "4. On the other hand, our boss said that having more than 9 defects on a given day is considered a bad day.\n",
    "\n",
    "   Calculate and print the probability of having one of these bad days."
   ]
  },
  {
   "cell_type": "code",
   "execution_count": 17,
   "id": "a2e52583",
   "metadata": {},
   "outputs": [
    {
     "data": {
      "text/plain": [
       "0.16950406276132668"
      ]
     },
     "execution_count": 17,
     "metadata": {},
     "output_type": "execute_result"
    }
   ],
   "source": [
    "## Task 4:\n",
    "prob_more_than_nine = 1 - stats.poisson.cdf(9,lam)\n",
    "prob_more_than_nine"
   ]
  },
  {
   "cell_type": "markdown",
   "id": "51b70b96",
   "metadata": {},
   "source": [
    "## Distribution in Practice"
   ]
  },
  {
   "cell_type": "markdown",
   "id": "64c0a33e",
   "metadata": {},
   "source": [
    "5. You've familiarized yourself a little bit about how the Poisson distribution works in theory by calculating different probabilities. But let's look at what this might look like in practice.\n",
    "\n",
    "   Create a variable called `year_defects` that has 365 random values from the Poisson distribution."
   ]
  },
  {
   "cell_type": "code",
   "execution_count": 20,
   "id": "ca2113e6",
   "metadata": {},
   "outputs": [
    {
     "data": {
      "text/plain": [
       "array([ 6,  5,  8,  6,  7, 10, 11,  7,  8,  6,  3,  5,  9, 12,  8, 11, 12,\n",
       "        4,  6,  7,  5,  8, 11, 12,  5,  9,  7,  6,  7,  6,  9,  3,  5,  9,\n",
       "        7,  7,  6,  9,  8,  5,  7,  5,  4, 15,  7,  4,  3, 10,  6, 10,  8,\n",
       "       11,  8,  9,  5,  5,  9,  6, 10,  7,  7,  6,  8,  8,  5,  9, 11,  9,\n",
       "        7,  7,  6,  6,  4,  6,  6,  9,  8,  6,  5,  4,  9,  6,  7,  8, 10,\n",
       "        6,  5,  7,  7, 15,  9,  9,  7,  3,  7, 12,  9,  7, 16,  3, 10,  5,\n",
       "        4,  6,  6,  7,  8,  8,  6,  3,  8,  5,  7,  2,  4,  8,  6,  7,  7,\n",
       "        9,  6,  7,  4,  7,  6,  6,  3,  6,  8, 10,  4, 12,  9,  6,  9,  5,\n",
       "        6,  6,  6,  8,  5,  5,  9, 10,  6,  6,  5, 13,  6, 14,  4, 10,  1,\n",
       "        9,  7,  5, 10,  9,  7,  6,  8,  8,  8,  8,  6,  3,  6,  9,  9,  9,\n",
       "        8, 12,  7,  7,  7,  6,  9,  6,  6, 10,  8,  4,  4,  8,  7, 10, 11,\n",
       "       12,  2,  7, 13, 12,  6,  9,  7,  9,  6, 12,  4,  8,  1,  7,  6,  6,\n",
       "        7,  5,  3,  5,  3,  8,  7,  4, 12,  3,  4,  6,  9,  3,  7, 10,  5,\n",
       "        6, 11, 14,  7, 11, 11,  8,  7,  4,  7,  8, 12,  7,  3,  7,  3,  7,\n",
       "       12,  6, 11,  5,  3,  8,  3, 12,  6,  4, 12,  7,  6, 10,  8,  9,  8,\n",
       "        8,  6,  7,  6,  6,  5,  3, 10, 10,  6,  7,  6,  9,  5,  7,  8,  8,\n",
       "       11, 10, 11,  7,  8,  6,  7,  8,  5, 11,  9,  8,  6,  7,  7,  9,  6,\n",
       "        5,  6,  2,  4, 10, 10,  8,  6,  7,  2,  8,  6,  6,  8,  7,  5,  3,\n",
       "       11,  7,  5,  9,  3, 10, 11,  7,  3,  4,  8,  8,  4,  2,  7,  4,  7,\n",
       "        6,  4, 10,  3,  6, 10,  6,  7,  2,  4,  3,  6,  2,  8, 10,  6,  2,\n",
       "        7,  9,  8, 11,  8,  7, 13,  5,  3,  4, 10,  6,  6,  7,  8,  5,  9,\n",
       "        9,  3,  9,  8,  8,  4,  6, 11], dtype=int64)"
      ]
     },
     "execution_count": 20,
     "metadata": {},
     "output_type": "execute_result"
    }
   ],
   "source": [
    "## Task 5:\n",
    "year_defects = stats.poisson.rvs(lam, size = 365)\n",
    "year_defects"
   ]
  },
  {
   "cell_type": "markdown",
   "id": "d7f3dce8",
   "metadata": {},
   "source": [
    "6. Let's take a look at our new dataset. Print the first 20 values in this dataset."
   ]
  },
  {
   "cell_type": "code",
   "execution_count": 21,
   "id": "b1d5f0c1",
   "metadata": {},
   "outputs": [
    {
     "data": {
      "text/plain": [
       "array([ 6,  5,  8,  6,  7, 10, 11,  7,  8,  6,  3,  5,  9, 12,  8, 11, 12,\n",
       "        4,  6,  7], dtype=int64)"
      ]
     },
     "execution_count": 21,
     "metadata": {},
     "output_type": "execute_result"
    }
   ],
   "source": [
    "## Task 6:\n",
    "year_defects[:20]"
   ]
  },
  {
   "cell_type": "markdown",
   "id": "eedc358b",
   "metadata": {},
   "source": [
    "7. If we expect 7 defects on a given day, what is the total number of defects we would expect over 365 days?\n",
    "\n",
    "   Calculate and print this value to the output terminal."
   ]
  },
  {
   "cell_type": "code",
   "execution_count": 22,
   "id": "75d2f0e0",
   "metadata": {},
   "outputs": [
    {
     "data": {
      "text/plain": [
       "2555"
      ]
     },
     "execution_count": 22,
     "metadata": {},
     "output_type": "execute_result"
    }
   ],
   "source": [
    "## Task 7:\n",
    "total_expected = lam * 365\n",
    "total_expected"
   ]
  },
  {
   "cell_type": "markdown",
   "id": "ad96cdf6",
   "metadata": {},
   "source": [
    "8. Calculate and print the total sum of the dataset `year_defects`. How does this compare to the total number of defects we expected over 365 days?"
   ]
  },
  {
   "cell_type": "code",
   "execution_count": 23,
   "id": "da304786",
   "metadata": {},
   "outputs": [
    {
     "data": {
      "text/plain": [
       "2590"
      ]
     },
     "execution_count": 23,
     "metadata": {},
     "output_type": "execute_result"
    }
   ],
   "source": [
    "## Task 8:\n",
    "year_defects.sum()"
   ]
  },
  {
   "cell_type": "markdown",
   "id": "aefa9e09",
   "metadata": {},
   "source": [
    "9. Calculate and print the average number of defects per day from our simulated dataset.\n",
    "\n",
    "   How does this compare to the expected average number of defects each day that we know from the given rate parameter of the Poisson distribution?"
   ]
  },
  {
   "cell_type": "code",
   "execution_count": 24,
   "id": "febc26d4",
   "metadata": {},
   "outputs": [
    {
     "data": {
      "text/plain": [
       "7.095890410958904"
      ]
     },
     "execution_count": 24,
     "metadata": {},
     "output_type": "execute_result"
    }
   ],
   "source": [
    "## Task 9:\n",
    "year_defects.mean()"
   ]
  },
  {
   "cell_type": "markdown",
   "id": "31308a48",
   "metadata": {},
   "source": [
    "10. You're worried about what the highest amount of defects in a single day might be because that would be a hectic day.\n",
    "\n",
    "    Print the maximum value of `year_defects`."
   ]
  },
  {
   "cell_type": "code",
   "execution_count": 25,
   "id": "18feb435",
   "metadata": {},
   "outputs": [
    {
     "data": {
      "text/plain": [
       "16"
      ]
     },
     "execution_count": 25,
     "metadata": {},
     "output_type": "execute_result"
    }
   ],
   "source": [
    "## Task 10:\n",
    "year_defects.max()"
   ]
  },
  {
   "cell_type": "markdown",
   "id": "64b6a84a",
   "metadata": {},
   "source": [
    "11. Wow, it would probably be super busy if there were that many defects on a single day. Hopefully, it is a rare event!\n",
    "\n",
    "    Calculate and print the probability of observing that maximum value or more from the Poisson(7) distribution."
   ]
  },
  {
   "cell_type": "code",
   "execution_count": 26,
   "id": "a63b1329",
   "metadata": {},
   "outputs": [
    {
     "data": {
      "text/plain": [
       "0.0014483971884803554"
      ]
     },
     "execution_count": 26,
     "metadata": {},
     "output_type": "execute_result"
    }
   ],
   "source": [
    "## Task 11:\n",
    "prob_max_defects = stats.poisson.pmf(16,7)\n",
    "prob_max_defects"
   ]
  },
  {
   "cell_type": "markdown",
   "id": "b45f0bab",
   "metadata": {},
   "source": [
    "## Extra"
   ]
  },
  {
   "cell_type": "markdown",
   "id": "5060f0ec",
   "metadata": {},
   "source": [
    "12. Congratulations! At this point, you have now explored the Poisson distribution and even worked with some simulated data. We have a couple of extra tasks if you would like an extra challenge. Feel free to try them out or move onto the next topic!\n",
    "\n",
    "    Let's say we want to know how many defects in a given day would put us in the 90th percentile of the Poisson(7) distribution. One way we could calculate this is by using the following method:\n",
    "    \n",
    "    ```py\n",
    "    stats.poisson.ppf(percentile, lambda)\n",
    "    ```\n",
    "    \n",
    "    `percentile` is equal to the desired percentile (a decimal between 0 and 1), and `lambda` is the lambda parameter of the Poisson distribution. This function is essentially the inverse of the CDF.\n",
    "    \n",
    "    Use this method to calculate and print the number of defects that would put us in the 90th percentile for a given day. **In other words, on 90% of days, we will observe fewer defects than this number**."
   ]
  },
  {
   "cell_type": "code",
   "execution_count": 31,
   "id": "e6156c3e",
   "metadata": {},
   "outputs": [
    {
     "data": {
      "text/plain": [
       "10.0"
      ]
     },
     "execution_count": 31,
     "metadata": {},
     "output_type": "execute_result"
    }
   ],
   "source": [
    "## Task 12:\n",
    "ninety_percent_of_days_defects = stats.poisson.ppf(0.90, lam)\n",
    "ninety_percent_of_days_defects"
   ]
  },
  {
   "cell_type": "markdown",
   "id": "0d86d9d0",
   "metadata": {},
   "source": [
    "13. Now let's see what proportion of our simulated dataset `year_defects` is greater than or equal to the number we calculated in the previous step.\n",
    "\n",
    "    By definition of a percentile, we would expect 1 - .90, or about 10% of days to be in this range.\n",
    "    \n",
    "    To calculate this:\n",
    "    \n",
    "     1) Count the number of values in the dataset that are greater than or equal to the 90th percentile value.\n",
    "     \n",
    "     2) Divide this number by the length of the dataset."
   ]
  },
  {
   "cell_type": "code",
   "execution_count": 39,
   "id": "c80c6e6a",
   "metadata": {},
   "outputs": [
    {
     "data": {
      "text/plain": [
       "0.1726027397260274"
      ]
     },
     "execution_count": 39,
     "metadata": {},
     "output_type": "execute_result"
    }
   ],
   "source": [
    "## Task 13:\n",
    "count = sum(year_defects >= 10)\n",
    "percentage_of_days_worse =  count / len(year_defects)\n",
    "percentage_of_days_worse"
   ]
  },
  {
   "cell_type": "code",
   "execution_count": null,
   "id": "9961924d",
   "metadata": {},
   "outputs": [],
   "source": []
  }
 ],
 "metadata": {
  "kernelspec": {
   "display_name": "Python 3 (ipykernel)",
   "language": "python",
   "name": "python3"
  },
  "language_info": {
   "codemirror_mode": {
    "name": "ipython",
    "version": 3
   },
   "file_extension": ".py",
   "mimetype": "text/x-python",
   "name": "python",
   "nbconvert_exporter": "python",
   "pygments_lexer": "ipython3",
   "version": "3.10.9"
  }
 },
 "nbformat": 4,
 "nbformat_minor": 5
}
